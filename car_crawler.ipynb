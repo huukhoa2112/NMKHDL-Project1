{
 "cells": [
  {
   "cell_type": "code",
   "execution_count": 2,
   "id": "98a7786c",
   "metadata": {},
   "outputs": [],
   "source": [
    "# Import một số thư viện cần thiết cho việc thu thập\n",
    "import json\n",
    "import re\n",
    "import pandas as pd\n",
    "import scrapy"
   ]
  },
  {
   "cell_type": "markdown",
   "id": "b9277908",
   "metadata": {},
   "source": [
    "Chúng ta sẽ thu thập dữ liệu từ trang web mua và bán các loại xe thông qua người dùng. **Auto Trader** (https://www.autotrader.com.au/) là trang web mua bán xe ở Australia. Hôm nay, ta sẽ thu thập dữ liệu từ trang web này."
   ]
  },
  {
   "cell_type": "markdown",
   "id": "37316644",
   "metadata": {},
   "source": [
    "Đầu tiên ta check xem trang web có cho phép thu thập dữ liệu không?"
   ]
  },
  {
   "cell_type": "code",
   "execution_count": 3,
   "id": "99d9719e",
   "metadata": {},
   "outputs": [
    {
     "data": {
      "text/plain": [
       "True"
      ]
     },
     "execution_count": 3,
     "metadata": {},
     "output_type": "execute_result"
    }
   ],
   "source": [
    "import urllib.robotparser\n",
    "\n",
    "rp = urllib.robotparser.RobotFileParser()\n",
    "rp.set_url(\"https://www.autotrader.com.au//robots.txt\")\n",
    "rp.read()\n",
    "\n",
    "rp.can_fetch(\"*\", \"https://www.autotrader.com.au//for-sale\")"
   ]
  },
  {
   "cell_type": "markdown",
   "id": "06dec5d2",
   "metadata": {},
   "source": [
    "Thử với link của một sản phẩm cụ thể"
   ]
  },
  {
   "cell_type": "code",
   "execution_count": 4,
   "id": "9adaf0bc",
   "metadata": {},
   "outputs": [
    {
     "data": {
      "text/plain": [
       "True"
      ]
     },
     "execution_count": 4,
     "metadata": {},
     "output_type": "execute_result"
    }
   ],
   "source": [
    "rp.can_fetch(\"*\", \"https://www.autotrader.com.au/car/12817873/renault/arkana/nsw/narellan/suv\")"
   ]
  },
  {
   "cell_type": "markdown",
   "id": "c44d6b87",
   "metadata": {},
   "source": [
    "Vậy trang web cho phép thu thập dữ liệu. **Đầu tiên ta tạo project mới với thư viện scrapy**"
   ]
  },
  {
   "cell_type": "code",
   "execution_count": 6,
   "id": "7b4598b2",
   "metadata": {},
   "outputs": [
    {
     "name": "stdout",
     "output_type": "stream",
     "text": [
      "New Scrapy project 'car_crawler', using template directory '/home/khoa/miniconda3/envs/min_ds-env/lib/python3.8/site-packages/scrapy/templates/project', created in:\r\n",
      "    /home/khoa/Documents/NMKHDL/Project1/car_crawler\r\n",
      "\r\n",
      "You can start your first spider with:\r\n",
      "    cd car_crawler\r\n",
      "    scrapy genspider example example.com\r\n"
     ]
    }
   ],
   "source": [
    "!scrapy startproject car_crawler"
   ]
  },
  {
   "cell_type": "code",
   "execution_count": 8,
   "id": "68b5820a",
   "metadata": {},
   "outputs": [
    {
     "name": "stdout",
     "output_type": "stream",
     "text": [
      "/home/khoa/Documents/NMKHDL/Project1/car_crawler/car_crawler\n"
     ]
    }
   ],
   "source": [
    "cd car_crawler/car_crawler"
   ]
  },
  {
   "cell_type": "markdown",
   "id": "0fdf23e9",
   "metadata": {},
   "source": [
    "Viết class **collect_car_url(scrapy.Spider)** trong file **collect_car_url.py** trong đường dẫn sau **car_crawler/car_crawler/spiders/collect_car_url.py** sau đó chạy lệnh bên dưới để thu thập url của các ô tô."
   ]
  },
  {
   "cell_type": "code",
   "execution_count": null,
   "id": "e44f59a0",
   "metadata": {},
   "outputs": [],
   "source": [
    "!scrapy crawl cars_urls -o dataset/cars_urls.json"
   ]
  },
  {
   "cell_type": "code",
   "execution_count": null,
   "id": "4c1834d9",
   "metadata": {},
   "outputs": [],
   "source": []
  }
 ],
 "metadata": {
  "kernelspec": {
   "display_name": "Python 3 (ipykernel)",
   "language": "python",
   "name": "python3"
  },
  "language_info": {
   "codemirror_mode": {
    "name": "ipython",
    "version": 3
   },
   "file_extension": ".py",
   "mimetype": "text/x-python",
   "name": "python",
   "nbconvert_exporter": "python",
   "pygments_lexer": "ipython3",
   "version": "3.8.8"
  }
 },
 "nbformat": 4,
 "nbformat_minor": 5
}
