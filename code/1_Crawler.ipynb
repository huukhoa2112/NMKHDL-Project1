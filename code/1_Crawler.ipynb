{
 "cells": [
  {
   "cell_type": "markdown",
   "id": "58d07a98",
   "metadata": {},
   "source": [
    "# THU THẬP DỮ LIỆU"
   ]
  },
  {
   "cell_type": "code",
   "execution_count": 2,
   "id": "98a7786c",
   "metadata": {},
   "outputs": [],
   "source": [
    "# Import một số thư viện cần thiết cho việc thu thập\n",
    "import json\n",
    "import re\n",
    "import pandas as pd\n",
    "import scrapy"
   ]
  },
  {
   "cell_type": "markdown",
   "id": "b9277908",
   "metadata": {},
   "source": [
    "Chúng ta sẽ thu thập dữ liệu từ trang web mua và bán các loại xe thông qua người dùng. **Auto Trader** (https://www.autotrader.com.au/) là trang web mua bán xe ở Australia. Hôm nay, ta sẽ thu thập dữ liệu từ trang web này."
   ]
  },
  {
   "cell_type": "markdown",
   "id": "37316644",
   "metadata": {},
   "source": [
    "Đầu tiên ta check xem trang web có cho phép thu thập dữ liệu không?"
   ]
  },
  {
   "cell_type": "code",
   "execution_count": 3,
   "id": "99d9719e",
   "metadata": {},
   "outputs": [
    {
     "data": {
      "text/plain": [
       "True"
      ]
     },
     "execution_count": 3,
     "metadata": {},
     "output_type": "execute_result"
    }
   ],
   "source": [
    "import urllib.robotparser\n",
    "\n",
    "rp = urllib.robotparser.RobotFileParser()\n",
    "rp.set_url(\"https://www.autotrader.com.au//robots.txt\")\n",
    "rp.read()\n",
    "\n",
    "rp.can_fetch(\"*\", \"https://www.autotrader.com.au//for-sale\")"
   ]
  },
  {
   "cell_type": "markdown",
   "id": "06dec5d2",
   "metadata": {},
   "source": [
    "Thử với link của một sản phẩm cụ thể"
   ]
  },
  {
   "cell_type": "code",
   "execution_count": 4,
   "id": "9adaf0bc",
   "metadata": {},
   "outputs": [
    {
     "data": {
      "text/plain": [
       "True"
      ]
     },
     "execution_count": 4,
     "metadata": {},
     "output_type": "execute_result"
    }
   ],
   "source": [
    "rp.can_fetch(\"*\", \"https://www.autotrader.com.au/car/12817873/renault/arkana/nsw/narellan/suv\")"
   ]
  },
  {
   "cell_type": "markdown",
   "id": "c44d6b87",
   "metadata": {},
   "source": [
    "Vậy trang web cho phép thu thập dữ liệu. **Đầu tiên ta tạo project mới với thư viện scrapy**"
   ]
  },
  {
   "cell_type": "code",
   "execution_count": 6,
   "id": "7b4598b2",
   "metadata": {},
   "outputs": [
    {
     "name": "stdout",
     "output_type": "stream",
     "text": [
      "New Scrapy project 'car_crawler', using template directory '/home/khoa/miniconda3/envs/min_ds-env/lib/python3.8/site-packages/scrapy/templates/project', created in:\r\n",
      "    /home/khoa/Documents/NMKHDL/Project1/car_crawler\r\n",
      "\r\n",
      "You can start your first spider with:\r\n",
      "    cd car_crawler\r\n",
      "    scrapy genspider example example.com\r\n"
     ]
    }
   ],
   "source": [
    "!scrapy startproject car_crawler"
   ]
  },
  {
   "cell_type": "code",
   "execution_count": 3,
   "id": "68b5820a",
   "metadata": {},
   "outputs": [
    {
     "name": "stdout",
     "output_type": "stream",
     "text": [
      "/home/khoa/Documents/NMKHDL/Project1/car_crawler/car_crawler\n"
     ]
    }
   ],
   "source": [
    "cd car_crawler/car_crawler"
   ]
  },
  {
   "cell_type": "markdown",
   "id": "0fdf23e9",
   "metadata": {},
   "source": [
    "Viết class **collect_car_url(scrapy.Spider)** trong file **collect_car_url.py** trong đường dẫn sau **car_crawler/car_crawler/spiders/collect_car_url.py**"
   ]
  },
  {
   "cell_type": "code",
   "execution_count": null,
   "id": "087438cb",
   "metadata": {},
   "outputs": [],
   "source": [
    "import scrapy\n",
    "\n",
    "class collect_car_url(scrapy.Spider):\n",
    "\tname = 'cars_urls'\n",
    "\n",
    "\tdef __init__(self):\n",
    "\t\tself.start = 1\n",
    "\t\n",
    "\tdef start_requests(self):\n",
    "\t\turls = ['https://www.autotrader.com.au/for-sale?page=1']\n",
    "\t\tfor url in urls:\n",
    "\t\t\tyield scrapy.Request(url=url, callback=self.parse)\n",
    "\n",
    "\tdef parse(self, response):\n",
    "\t\t\n",
    "\t\tfor item in response.css('section.row a.carListing'):\n",
    "\t\t\tyield {\n",
    "\t\t\t\t'car_url': item.css('a.carListing::attr(href)').get(),\n",
    "\t\t\t}\n",
    "\n",
    "\t\tif self.start < 1718:\n",
    "\t\t\tself.start += 1\n",
    "\n",
    "\t\t\tnext_page_url = 'https://www.autotrader.com.au/for-sale?page=' + f'{self.start}'\n",
    "\t\t\tyield scrapy.Request(url=next_page_url)"
   ]
  },
  {
   "cell_type": "markdown",
   "id": "886296d1",
   "metadata": {},
   "source": [
    "Sau đó ta chạy lệnh bên dưới để thu thập url của các xe."
   ]
  },
  {
   "cell_type": "code",
   "execution_count": 31,
   "id": "e44f59a0",
   "metadata": {},
   "outputs": [],
   "source": [
    "!scrapy crawl cars_urls -o dataset/cars_urls.json"
   ]
  },
  {
   "cell_type": "markdown",
   "id": "c920b3be",
   "metadata": {},
   "source": [
    "Viết class **collect_car_info(scrapy.Spider)** trong file **collect_car_info.py** trong đường dẫn sau **car_crawler/car_crawler/spiders/collect_car_info.py**"
   ]
  },
  {
   "cell_type": "code",
   "execution_count": null,
   "id": "a7e7da7e",
   "metadata": {},
   "outputs": [],
   "source": [
    "import scrapy\n",
    "import re\n",
    "import json\n",
    "\n",
    "class collect_car_info(scrapy.Spider):\n",
    "\tname='cars_info'\n",
    "\n",
    "\tdef __init__(self):\n",
    "\t\ttry:\n",
    "\t\t\twith open('dataset/cars_urls.json') as f:\n",
    "\t\t\t\tself.cars = json.load(f)\n",
    "\t\t\t\tself.car_count = 1\n",
    "\t\texcept IOError:\n",
    "\t\t\tprint(\"File not found\")\n",
    "\n",
    "\tdef start_requests(self):\n",
    "\t\turls = ['https://www.autotrader.com.au' + self.cars[self.car_count-1]['car_url']]\n",
    "\t\t# YOUR CODE HERE\n",
    "\n",
    "\t\tfor url in urls:\n",
    "\t\t\tyield scrapy.Request(url=url, callback=self.parse)\n",
    "\t\t\n",
    "\tdef parse(self, response):\n",
    "\t\t# YOUR CODE HERE\n",
    "\t\tcars = response.css('.content')\n",
    "\t\tfor car in cars:\n",
    "\t\t\tcar_id = self.cars[self.car_count-1]['car_url']\n",
    "\t\t\tcar_id = re.findall('\\d+', car_id)[0]\n",
    "\t\t\tcar_name = car.xpath('//h1[@class=\"title\"]/text()').get().replace('\\n','').strip()\n",
    "\n",
    "\n",
    "\t\t\tcar_price = car.xpath('//div[@class=\"tabs--slider\"]//div[1]//div//table//tbody//tr[3]//td[2]/text()').get().replace('\\n','').strip()\n",
    "\t\t\tcar_kinds = car.xpath('//div[@class=\"tabs--slider\"]//div[3]//div[1]//div[6]//table//tbody//tr//td[2]/text()').getall()[0:4]\n",
    "\t\t\tcar_kinds = [item.replace('\\n','').strip() for item in car_kinds]\n",
    "\t\t\tcar_year = re.findall('^\\d+', car_name)[0]\n",
    "\t\t\t\n",
    "\t\t\tcar_details = car.xpath('//div[@class=\"vehicleDetails--details\"]//div//div/text()').getall()[0:5]\n",
    "\t\t\tcar_details = [item.replace('\\n','').strip() for item in car_details]\n",
    "\t\t\tcar_details[2] = re.findall('\\w+', car_details[2])[0]\n",
    "\t\t\tcar_details[4] = re.findall('[^:]+', car_details[4])[1]\n",
    "\t\t\t\n",
    "\t\t\tcar_cc = car.xpath('//div[@class=\"tabs--slider\"]//div[3]//div[1]//div[4]//table//tbody//tr[2]//td[2]/text()').get().replace('\\n','').strip()\n",
    "\t\t\t\n",
    "\t\t\tcar_color = car.xpath('//div[@class=\"tabs--slider\"]//div[1]//div[1]//table//tbody//tr[10]//td[2]/text()').get().replace('\\n','').strip()\n",
    "\t\t\tif car_color != '- / -':\n",
    "\t\t\t\tcar_color = re.findall('\\w+', car_color)[0]\n",
    "\t\t\telse:\n",
    "\t\t\t\tcar_color = ''\n",
    "\t\t\t\n",
    "\t\t\tcar_seat = car.xpath('//div[@class=\"tabs--slider\"]//div[3]//div[1]//div[2]//table//tbody//tr//td[2]/text()').get().replace('\\n','').strip()\n",
    "\n",
    "\n",
    "\t\t\t\n",
    "\t\t\tcar_dict = {\n",
    "\t\t\t\t'ID': car_id,\n",
    "\t\t\t\t'Name': car_name,\n",
    "\t\t\t\t'Price': car_price,\n",
    "\t\t\t\t'Brand': car_kinds[0],\n",
    "\t\t\t\t'Model': car_kinds[1],\n",
    "\t\t\t\t'Variant': car_kinds[2],\n",
    "\t\t\t\t'Series': car_kinds[3],\n",
    "\t\t\t\t'Year': car_year,\n",
    "\t\t\t\t'Kilometers': car_details[0],\n",
    "\t\t\t\t'Type': car_details[1],\n",
    "\t\t\t\t'Gearbox': car_details[2],\n",
    "\t\t\t\t'Fuel': car_details[3],\n",
    "\t\t\t\t'Status': car_details[4],\n",
    "\t\t\t\t'CC': car_cc,\n",
    "\t\t\t\t'Color': car_color,\n",
    "\t\t\t\t'Seating Capacity': car_seat,\n",
    "\t\t\t}\n",
    "\n",
    "\t\t\tyield car_dict\n",
    "\n",
    "\n",
    "\t\t\tif self.car_count < len(self.cars):\n",
    "\t\t\t\tnext_page_url = 'https://www.autotrader.com.au' + self.cars[self.car_count]['car_url']\n",
    "\t\t\t\tself.car_count += 1\n",
    "\t\t\t\tyield scrapy.Request(url=next_page_url, callback=self.parse) "
   ]
  },
  {
   "cell_type": "markdown",
   "id": "345faa65",
   "metadata": {},
   "source": [
    "Sau đó chạy lệnh bên dưới để thu thập info của các xe."
   ]
  },
  {
   "cell_type": "code",
   "execution_count": 61,
   "id": "4c1834d9",
   "metadata": {},
   "outputs": [],
   "source": [
    "!scrapy crawl cars_info -o dataset/cars_info.json"
   ]
  }
 ],
 "metadata": {
  "kernelspec": {
   "display_name": "Python 3 (ipykernel)",
   "language": "python",
   "name": "python3"
  },
  "language_info": {
   "codemirror_mode": {
    "name": "ipython",
    "version": 3
   },
   "file_extension": ".py",
   "mimetype": "text/x-python",
   "name": "python",
   "nbconvert_exporter": "python",
   "pygments_lexer": "ipython3",
   "version": "3.8.8"
  }
 },
 "nbformat": 4,
 "nbformat_minor": 5
}
